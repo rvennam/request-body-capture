{
 "cells": [
  {
   "cell_type": "markdown",
   "id": "853eecac",
   "metadata": {},
   "source": [
    "# Gloo Gateway TAP Filter\n",
    "\n",
    "https://docs.solo.io/gateway/1.19.x/"
   ]
  },
  {
   "cell_type": "markdown",
   "id": "ca4fa698",
   "metadata": {},
   "source": [
    "### Install Istio"
   ]
  },
  {
   "cell_type": "code",
   "execution_count": null,
   "id": "a334caf8",
   "metadata": {
    "vscode": {
     "languageId": "shellscript"
    }
   },
   "outputs": [],
   "source": [
    "istioctl install  --skip-confirmation"
   ]
  },
  {
   "cell_type": "markdown",
   "id": "e0632970",
   "metadata": {},
   "source": [
    "### Install GG 1.19"
   ]
  },
  {
   "cell_type": "code",
   "execution_count": null,
   "id": "a4c8c1b4",
   "metadata": {
    "vscode": {
     "languageId": "shellscript"
    }
   },
   "outputs": [],
   "source": [
    "kubectl apply -f https://github.com/kubernetes-sigs/gateway-api/releases/download/v1.2.1/standard-install.yaml\n",
    "helm repo add glooe https://storage.googleapis.com/gloo-ee-helm\n",
    "helm repo update"
   ]
  },
  {
   "cell_type": "code",
   "execution_count": null,
   "id": "66938826",
   "metadata": {
    "vscode": {
     "languageId": "shellscript"
    }
   },
   "outputs": [],
   "source": [
    "helm install -n gloo-system gloo glooe/gloo-ee \\\n",
    "--create-namespace \\\n",
    "--version 1.19.10 \\\n",
    "--set-string license_key=$GLOO_GATEWAY_LICENSE_KEY \\\n",
    "-f - <<EOF\n",
    "gloo:\n",
    "  discovery:\n",
    "    enabled: false\n",
    "  gatewayProxies:\n",
    "    gatewayProxy:\n",
    "      disabled: true\n",
    "  kubeGateway:\n",
    "    enabled: true\n",
    "  gloo:\n",
    "    disableLeaderElection: true\n",
    "gloo-fed:\n",
    "  enabled: false\n",
    "  glooFedApiserver:\n",
    "    enable: false\n",
    "grafana:\n",
    "  defaultInstallationEnabled: false\n",
    "observability:\n",
    "  enabled: false\n",
    "prometheus:\n",
    "  enabled: false\n",
    "EOF"
   ]
  },
  {
   "cell_type": "code",
   "execution_count": null,
   "id": "f8928c1c",
   "metadata": {
    "vscode": {
     "languageId": "shellscript"
    }
   },
   "outputs": [],
   "source": [
    "kubectl apply -n gloo-system -f- <<EOF\n",
    "kind: Gateway\n",
    "apiVersion: gateway.networking.k8s.io/v1\n",
    "metadata:\n",
    "  name: http\n",
    "spec:\n",
    "  gatewayClassName: gloo-gateway\n",
    "  listeners:\n",
    "  - protocol: HTTP\n",
    "    port: 8080\n",
    "    name: http\n",
    "    allowedRoutes:\n",
    "      namespaces:\n",
    "        from: All\n",
    "EOF"
   ]
  },
  {
   "cell_type": "markdown",
   "id": "5e1655d9",
   "metadata": {},
   "source": [
    "### Deploy httpbin sample"
   ]
  },
  {
   "cell_type": "code",
   "execution_count": null,
   "id": "ff828152",
   "metadata": {
    "vscode": {
     "languageId": "shellscript"
    }
   },
   "outputs": [],
   "source": [
    "kubectl create ns httpbin\n",
    "kubectl label namespace httpbin istio-injection=enabled\n",
    "kubectl -n httpbin apply -f https://raw.githubusercontent.com/solo-io/gloo-mesh-use-cases/main/policy-demo/httpbin.yaml\n",
    "sleep 4\n",
    "kubectl get pods -n httpbin"
   ]
  },
  {
   "cell_type": "markdown",
   "id": "f439d951",
   "metadata": {},
   "source": [
    "### Create a route for httpbin"
   ]
  },
  {
   "cell_type": "code",
   "execution_count": null,
   "id": "dc7d97dc",
   "metadata": {
    "vscode": {
     "languageId": "shellscript"
    }
   },
   "outputs": [],
   "source": [
    "kubectl apply -f- <<EOF\n",
    "apiVersion: gateway.networking.k8s.io/v1\n",
    "kind: HTTPRoute\n",
    "metadata:\n",
    "  name: httpbin\n",
    "  namespace: httpbin\n",
    "  labels:\n",
    "    example: httpbin-route\n",
    "spec:\n",
    "  parentRefs:\n",
    "    - name: http\n",
    "      namespace: gloo-system\n",
    "  rules:\n",
    "    - backendRefs:\n",
    "        - name: httpbin\n",
    "          port: 8000\n",
    "EOF"
   ]
  },
  {
   "cell_type": "markdown",
   "id": "8118f455",
   "metadata": {},
   "source": [
    "### Send traffic to httpbin from GG"
   ]
  },
  {
   "cell_type": "code",
   "execution_count": null,
   "id": "1e9b9c60",
   "metadata": {
    "vscode": {
     "languageId": "shellscript"
    }
   },
   "outputs": [],
   "source": [
    "export INGRESS_GW_ADDRESS=$(kubectl get svc -n gloo-system gloo-proxy-http -o=jsonpath=\"{.status.loadBalancer.ingress[0]['hostname','ip']}\")\n",
    "curl -i http://$INGRESS_GW_ADDRESS:8080/headers"
   ]
  },
  {
   "cell_type": "markdown",
   "id": "04e90780",
   "metadata": {},
   "source": [
    "## Capturing Gateway Traffic"
   ]
  },
  {
   "cell_type": "markdown",
   "id": "ce3d3f05",
   "metadata": {},
   "source": [
    "### Deploy TAP Server"
   ]
  },
  {
   "cell_type": "code",
   "execution_count": null,
   "id": "6b26fb4b",
   "metadata": {
    "vscode": {
     "languageId": "shellscript"
    }
   },
   "outputs": [],
   "source": [
    "kubectl apply -f ./tap-server.yaml"
   ]
  },
  {
   "cell_type": "markdown",
   "id": "dc05f6b5",
   "metadata": {},
   "source": [
    "### Configure GG with the TAP Server"
   ]
  },
  {
   "cell_type": "code",
   "execution_count": null,
   "id": "2543b5e8",
   "metadata": {
    "vscode": {
     "languageId": "shellscript"
    }
   },
   "outputs": [],
   "source": [
    "kubectl apply -f- <<EOF\n",
    "apiVersion: gateway.solo.io/v1\n",
    "kind: HttpListenerOption\n",
    "metadata:\n",
    "  name: tapping\n",
    "  namespace: gloo-system\n",
    "spec:\n",
    "  targetRefs:\n",
    "  - group: gateway.networking.k8s.io\n",
    "    kind: Gateway\n",
    "    name: http\n",
    "  options:\n",
    "    tap:\n",
    "      sinks:\n",
    "      - httpService:\n",
    "          tapServer:\n",
    "            name: sample-tap-server-http\n",
    "            namespace: gloo-system\n",
    "          timeout: '20s'\n",
    "EOF"
   ]
  },
  {
   "cell_type": "markdown",
   "id": "24044869",
   "metadata": {},
   "source": [
    "### Send Traffic and Check TAP Server"
   ]
  },
  {
   "cell_type": "code",
   "execution_count": null,
   "id": "528a1107",
   "metadata": {
    "vscode": {
     "languageId": "shellscript"
    }
   },
   "outputs": [],
   "source": [
    "export INGRESS_GW_ADDRESS=$(kubectl get svc -n gloo-system gloo-proxy-http -o=jsonpath=\"{.status.loadBalancer.ingress[0]['hostname','ip']}\")\n",
    "curl -i http://$INGRESS_GW_ADDRESS:8080/headers"
   ]
  },
  {
   "cell_type": "code",
   "execution_count": null,
   "id": "5f3f768f",
   "metadata": {
    "vscode": {
     "languageId": "shellscript"
    }
   },
   "outputs": [],
   "source": [
    "kubectl -n gloo-system logs deployments/sample-tap-server-http --tail=100"
   ]
  },
  {
   "cell_type": "markdown",
   "id": "4d26dbd5",
   "metadata": {},
   "source": [
    "## Capturing Mesh Traffic\n",
    "\n",
    "Capture sidecar mesh traffic, by creating a VS to route thru the GG Gateway"
   ]
  },
  {
   "cell_type": "markdown",
   "id": "1d12db16",
   "metadata": {},
   "source": [
    "### Deploy Sleep Sample"
   ]
  },
  {
   "cell_type": "code",
   "execution_count": 54,
   "id": "a5f360da",
   "metadata": {
    "vscode": {
     "languageId": "shellscript"
    }
   },
   "outputs": [
    {
     "name": "stdout",
     "output_type": "stream",
     "text": [
      "serviceaccount/sleep created\n",
      "service/sleep created\n",
      "deployment.apps/sleep created\n",
      "NAME                       READY   STATUS            RESTARTS   AGE\n",
      "httpbin-789cf5c944-9tcm5   4/4     Running           0          8m22s\n",
      "sleep-7964877df7-zftzx     1/2     PodInitializing   0          4s\n"
     ]
    }
   ],
   "source": [
    "kubectl apply -f https://raw.githubusercontent.com/istio/istio/refs/heads/master/samples/sleep/sleep.yaml -n httpbin\n",
    "sleep 4\n",
    "kubectl get pods -n httpbin"
   ]
  },
  {
   "cell_type": "code",
   "execution_count": 56,
   "id": "ed70baee",
   "metadata": {
    "vscode": {
     "languageId": "shellscript"
    }
   },
   "outputs": [
    {
     "name": "stdout",
     "output_type": "stream",
     "text": [
      "  % Total    % Received % Xferd  Average Speed   Time    Time     Time  Current\n",
      "                                 Dload  Upload   Total   Spent    Left  Speed\n",
      "  0     0    0     0    0     0      0      0 --:--:-- --:--:-- --:--:--     0{\n",
      "  \"headers\": {\n",
      "    \"Accept\": [\n",
      "      \"*/*\"\n",
      "    ],\n",
      "    \"Host\": [\n",
      "      \"httpbin:8000\"\n",
      "    ],\n",
      "    \"User-Agent\": [\n",
      "      \"curl/8.16.0\"\n",
      "    ],\n",
      "    \"X-Envoy-Attempt-Count\": [\n",
      "      \"1\"\n",
      "    ],\n",
      "    \"X-Forwarded-Client-Cert\": [\n",
      "      \"By=spiffe://cluster.local/ns/httpbin/sa/httpbin;Hash=ac9a015a1dd5ee6c3991fb262f0951c038ab373b885ff1de5d6cb68794b540f3;Subject=\\\"\\\";URI=spiffe://cluster.local/ns/httpbin/sa/sleep\"\n",
      "    ],\n",
      "    \"X-Forwarded-Proto\": [\n",
      "      \"http\"\n",
      "    ],\n",
      "    \"X-Request-Id\": [\n",
      "      \"33e0232c-85fe-424e-89b6-d92524ec1f8e\"\n",
      "    ]\n",
      "  }\n",
      "}\n",
      "100   541  100   541    0     0  68299      0 --:--:-- --:--:-- --:--:-- 77285\n"
     ]
    }
   ],
   "source": [
    "kubectl exec deploy/sleep -n httpbin -- curl http://httpbin:8000/headers"
   ]
  },
  {
   "cell_type": "code",
   "execution_count": 57,
   "id": "1e419201",
   "metadata": {
    "vscode": {
     "languageId": "shellscript"
    }
   },
   "outputs": [
    {
     "name": "stdout",
     "output_type": "stream",
     "text": [
      "virtualservice.networking.istio.io/httpbin-hairpin-mesh created\n"
     ]
    }
   ],
   "source": [
    "kubectl apply -f- <<EOF\n",
    "apiVersion: networking.istio.io/v1\n",
    "kind: VirtualService\n",
    "metadata:\n",
    "  name: httpbin-hairpin-mesh\n",
    "  namespace: httpbin\n",
    "spec:\n",
    "  hosts:\n",
    "  - httpbin.httpbin.svc.cluster.local\n",
    "  gateways:\n",
    "  - mesh\n",
    "  http:\n",
    "  - route:\n",
    "    - destination:\n",
    "        host: gloo-proxy-http.gloo-system.svc.cluster.local\n",
    "        port:\n",
    "          number: 8080\n",
    "      headers:\n",
    "        request:\n",
    "          set:\n",
    "            Host: httpbin.httpbin.svc.cluster.local\n",
    "EOF\n"
   ]
  },
  {
   "cell_type": "code",
   "execution_count": 58,
   "id": "253282d0",
   "metadata": {
    "vscode": {
     "languageId": "shellscript"
    }
   },
   "outputs": [
    {
     "name": "stdout",
     "output_type": "stream",
     "text": [
      "  % Total    % Received % Xferd  Average Speed   Time    Time     Time  Current\n",
      "                                 Dload  Upload   Total   Spent    Left  Speed\n",
      "  0     0    0     0    0     0      0      0 --:--:-- --:--:-- --:--:--     0{\n",
      "  \"headers\": {\n",
      "    \"Accept\": [\n",
      "      \"*/*\"\n",
      "    ],\n",
      "    \"Host\": [\n",
      "      \"httpbin.httpbin.svc.cluster.local\"\n",
      "    ],\n",
      "    \"User-Agent\": [\n",
      "      \"curl/8.16.0\"\n",
      "    ],\n",
      "    \"X-Envoy-Attempt-Count\": [\n",
      "      \"1\"\n",
      "    ],\n",
      "    \"X-Envoy-Original-Host\": [\n",
      "      \"httpbin:8000\"\n",
      "    ],\n",
      "    \"X-Forwarded-Proto\": [\n",
      "      \"http\"\n",
      "    ],\n",
      "    \"X-Request-Id\": [\n",
      "      \"12e2e62c-cfb2-45e4-8ee9-a149228028cf\"\n",
      "    ]\n",
      "  }\n",
      "}\n",
      "100   395  100   395    0     0  32443      0 --:--:-- --:--:-- --:--:-- 32916\n"
     ]
    }
   ],
   "source": [
    "kubectl exec deploy/sleep -n httpbin -- curl http://httpbin:8000/headers"
   ]
  },
  {
   "cell_type": "code",
   "execution_count": null,
   "id": "32fc53d8",
   "metadata": {
    "vscode": {
     "languageId": "shellscript"
    }
   },
   "outputs": [],
   "source": [
    "kubectl -n gloo-system logs deployments/sample-tap-server-http --tail=100"
   ]
  },
  {
   "cell_type": "markdown",
   "id": "6f6a1848",
   "metadata": {},
   "source": [
    "## Clean up"
   ]
  },
  {
   "cell_type": "code",
   "execution_count": null,
   "id": "c29145d5",
   "metadata": {
    "vscode": {
     "languageId": "shellscript"
    }
   },
   "outputs": [],
   "source": [
    "kubectl delete -f ./tap-server.yaml\n",
    "kubectl delete ns httpbin"
   ]
  }
 ],
 "metadata": {
  "kernelspec": {
   "display_name": "Bash",
   "language": "bash",
   "name": "bash"
  },
  "language_info": {
   "codemirror_mode": "shell",
   "file_extension": ".sh",
   "mimetype": "text/x-sh",
   "name": "bash"
  }
 },
 "nbformat": 4,
 "nbformat_minor": 5
}
