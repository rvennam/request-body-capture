{
 "cells": [
  {
   "cell_type": "code",
   "execution_count": null,
   "id": "c9ef7868",
   "metadata": {
    "vscode": {
     "languageId": "shellscript"
    }
   },
   "outputs": [],
   "source": [
    "kubectl create namespace httpbin2\n",
    "kubectl label namespace httpbin2 istio.io/dataplane-mode=ambient\n",
    "kubectl label namespace httpbin2 istio.io/use-waypoint=waypoint\n",
    "kubectl apply -f https://raw.githubusercontent.com/istio/istio/refs/heads/master/samples/sleep/sleep.yaml -n httpbin2\n",
    "kubectl apply -f https://raw.githubusercontent.com/istio/istio/refs/heads/master/samples/httpbin/httpbin.yaml -n httpbin2"
   ]
  },
  {
   "cell_type": "code",
   "execution_count": null,
   "id": "a5009524",
   "metadata": {
    "vscode": {
     "languageId": "shellscript"
    }
   },
   "outputs": [],
   "source": [
    "kubectl apply -f- <<EOF\n",
    "apiVersion: gateway.networking.k8s.io/v1\n",
    "kind: Gateway\n",
    "metadata:\n",
    "  name: waypoint\n",
    "  namespace: httpbin2\n",
    "spec:\n",
    "  gatewayClassName: agentgateway-enterprise-waypoint\n",
    "  infrastructure:\n",
    "    parametersRef:\n",
    "      group: gateway.kgateway.dev\n",
    "      kind: GatewayParameters\n",
    "      name: agentgateway\n",
    "  listeners:\n",
    "  - allowedRoutes:\n",
    "      namespaces:\n",
    "        from: Same\n",
    "    name: mesh\n",
    "    port: 15008\n",
    "    protocol: HBONE\n",
    "---\n",
    "apiVersion: gateway.kgateway.dev/v1alpha1\n",
    "kind: GatewayParameters\n",
    "metadata:\n",
    "  name: agentgateway\n",
    "  namespace: httpbin2\n",
    "spec:\n",
    "  kube:\n",
    "    agentgateway:\n",
    "      customConfigMapName: agentgateway-config\n",
    "---\n",
    "apiVersion: v1\n",
    "kind: ConfigMap\n",
    "metadata:\n",
    "  name: agentgateway-config\n",
    "  namespace: httpbin2\n",
    "data:\n",
    "  config.yaml: |-\n",
    "    config:\n",
    "      logging:\n",
    "        format: json\n",
    "        fields:\n",
    "          add:\n",
    "            request.body: string(request.body)\n",
    "            response.body: string(response.body)\n",
    "EOF"
   ]
  },
  {
   "cell_type": "code",
   "execution_count": null,
   "id": "b97a5098",
   "metadata": {
    "vscode": {
     "languageId": "shellscript"
    }
   },
   "outputs": [],
   "source": [
    "# gloo-gateway image: howardjohn/gloo-gateway-controller:1761079492\n",
    "# kubectl set env deployment/waypoint CLUSTER_ID=cluster1"
   ]
  },
  {
   "cell_type": "code",
   "execution_count": 29,
   "id": "0497e8ce",
   "metadata": {
    "vscode": {
     "languageId": "shellscript"
    }
   },
   "outputs": [
    {
     "name": "stdout",
     "output_type": "stream",
     "text": [
      "  % Total    % Received % Xferd  Average Speed   Time    Time     Time  Current\n",
      "                                 Dload  Upload   Total   Spent    Left  Speed\n",
      "  0     0    0     0    0     0      0      0 --:--:-- --:--:-- --:--:--     0HTTP/1.1 200 OK\n",
      "100   146  100   146    0     0  13858      0 --:--:-- --:--:-- --:--:-- 14600\n",
      "access-control-allow-credentials: true\n",
      "access-control-allow-origin: *\n",
      "content-type: application/json; charset=utf-8\n",
      "date: Thu, 23 Oct 2025 18:02:24 GMT\n",
      "content-length: 146\n",
      "\n",
      "{\n",
      "  \"headers\": {\n",
      "    \"Accept\": [\n",
      "      \"*/*\"\n",
      "    ],\n",
      "    \"Host\": [\n",
      "      \"httpbin:8000\"\n",
      "    ],\n",
      "    \"User-Agent\": [\n",
      "      \"curl/8.16.0\"\n",
      "    ]\n",
      "  }\n",
      "}\n"
     ]
    }
   ],
   "source": [
    "kubectl exec deploy/sleep -n httpbin2 -- curl -i http://httpbin:8000/headers"
   ]
  },
  {
   "cell_type": "code",
   "execution_count": 30,
   "id": "34c75d54",
   "metadata": {
    "vscode": {
     "languageId": "shellscript"
    }
   },
   "outputs": [
    {
     "name": "stdout",
     "output_type": "stream",
     "text": [
      "{\"level\":\"info\",\"time\":\"2025-10-23T17:10:48.052056Z\",\"scope\":\"agent_xds::client\",\"message\":\"received response\",\"type_url\":\"type.googleapis.com/agentgateway.dev.workload.Address\",\"size\":3,\"removes\":0,\"xds\":{\"id\":1}}\n",
      "{\"level\":\"info\",\"time\":\"2025-10-23T17:10:51.695151Z\",\"scope\":\"agent_xds::client\",\"message\":\"received response\",\"type_url\":\"type.googleapis.com/agentgateway.dev.workload.Address\",\"size\":0,\"removes\":1,\"xds\":{\"id\":1}}\n",
      "{\"level\":\"info\",\"time\":\"2025-10-23T17:10:52.165187Z\",\"scope\":\"agent_xds::client\",\"message\":\"received response\",\"type_url\":\"type.googleapis.com/agentgateway.dev.workload.Address\",\"size\":0,\"removes\":1,\"xds\":{\"id\":1}}\n",
      "{\"level\":\"info\",\"time\":\"2025-10-23T17:10:52.455068Z\",\"scope\":\"agent_xds::client\",\"message\":\"received response\",\"type_url\":\"type.googleapis.com/agentgateway.dev.workload.Address\",\"size\":0,\"removes\":1,\"xds\":{\"id\":1}}\n",
      "{\"level\":\"info\",\"time\":\"2025-10-23T17:10:55.026338Z\",\"scope\":\"agent_xds::client\",\"message\":\"received response\",\"type_url\":\"type.googleapis.com/agentgateway.dev.workload.Address\",\"size\":1,\"removes\":0,\"xds\":{\"id\":1}}\n",
      "{\"level\":\"info\",\"time\":\"2025-10-23T17:10:56.520300Z\",\"scope\":\"agent_xds::client\",\"message\":\"received response\",\"type_url\":\"type.googleapis.com/agentgateway.dev.workload.Address\",\"size\":1,\"removes\":0,\"xds\":{\"id\":1}}\n",
      "{\"level\":\"info\",\"time\":\"2025-10-23T17:10:56.632038Z\",\"scope\":\"agent_xds::client\",\"message\":\"received response\",\"type_url\":\"type.googleapis.com/agentgateway.dev.workload.Address\",\"size\":1,\"removes\":0,\"xds\":{\"id\":1}}\n",
      "{\"level\":\"info\",\"time\":\"2025-10-23T17:10:57.163995Z\",\"scope\":\"agent_xds::client\",\"message\":\"received response\",\"type_url\":\"type.googleapis.com/agentgateway.dev.workload.Address\",\"size\":1,\"removes\":0,\"xds\":{\"id\":1}}\n",
      "{\"level\":\"info\",\"time\":\"2025-10-23T17:10:58.192652Z\",\"scope\":\"agent_xds::client\",\"message\":\"received response\",\"type_url\":\"type.googleapis.com/agentgateway.dev.workload.Address\",\"size\":1,\"removes\":0,\"xds\":{\"id\":1}}\n",
      "{\"level\":\"info\",\"time\":\"2025-10-23T17:10:58.616721Z\",\"scope\":\"agent_xds::client\",\"message\":\"received response\",\"type_url\":\"type.googleapis.com/agentgateway.dev.workload.Address\",\"size\":1,\"removes\":0,\"xds\":{\"id\":1}}\n",
      "{\"level\":\"info\",\"time\":\"2025-10-23T17:10:59.870375Z\",\"scope\":\"agent_xds::client\",\"message\":\"received response\",\"type_url\":\"type.googleapis.com/agentgateway.dev.workload.Address\",\"size\":1,\"removes\":0,\"xds\":{\"id\":1}}\n",
      "{\"level\":\"info\",\"time\":\"2025-10-23T17:11:00.804158Z\",\"scope\":\"agent_xds::client\",\"message\":\"received response\",\"type_url\":\"type.googleapis.com/agentgateway.dev.workload.Address\",\"size\":1,\"removes\":0,\"xds\":{\"id\":1}}\n",
      "{\"level\":\"info\",\"time\":\"2025-10-23T17:11:02.814272Z\",\"scope\":\"agent_xds::client\",\"message\":\"received response\",\"type_url\":\"type.googleapis.com/agentgateway.dev.workload.Address\",\"size\":1,\"removes\":0,\"xds\":{\"id\":1}}\n",
      "{\"level\":\"info\",\"time\":\"2025-10-23T17:11:03.817998Z\",\"scope\":\"agent_xds::client\",\"message\":\"received response\",\"type_url\":\"type.googleapis.com/agentgateway.dev.workload.Address\",\"size\":1,\"removes\":0,\"xds\":{\"id\":1}}\n",
      "{\"level\":\"info\",\"time\":\"2025-10-23T17:11:07.864671Z\",\"scope\":\"agent_xds::client\",\"message\":\"received response\",\"type_url\":\"type.googleapis.com/agentgateway.dev.workload.Address\",\"size\":1,\"removes\":0,\"xds\":{\"id\":1}}\n",
      "{\"level\":\"info\",\"time\":\"2025-10-23T17:11:07.926795Z\",\"scope\":\"agent_xds::client\",\"message\":\"received response\",\"type_url\":\"type.googleapis.com/agentgateway.dev.workload.Address\",\"size\":1,\"removes\":0,\"xds\":{\"id\":1}}\n",
      "{\"level\":\"info\",\"time\":\"2025-10-23T17:11:09.889690Z\",\"scope\":\"agent_xds::client\",\"message\":\"received response\",\"type_url\":\"type.googleapis.com/agentgateway.dev.workload.Address\",\"size\":1,\"removes\":0,\"xds\":{\"id\":1}}\n",
      "{\"level\":\"info\",\"time\":\"2025-10-23T17:11:10.914899Z\",\"scope\":\"agent_xds::client\",\"message\":\"received response\",\"type_url\":\"type.googleapis.com/agentgateway.dev.workload.Address\",\"size\":1,\"removes\":0,\"xds\":{\"id\":1}}\n",
      "{\"level\":\"info\",\"time\":\"2025-10-23T17:11:12.089944Z\",\"scope\":\"agent_xds::client\",\"message\":\"received response\",\"type_url\":\"type.googleapis.com/agentgateway.dev.workload.Address\",\"size\":1,\"removes\":0,\"xds\":{\"id\":1}}\n",
      "{\"level\":\"info\",\"time\":\"2025-10-23T17:27:06.480167Z\",\"scope\":\"agent_xds::client\",\"message\":\"received response\",\"type_url\":\"type.googleapis.com/agentgateway.dev.workload.Address\",\"size\":0,\"removes\":1,\"xds\":{\"id\":1}}\n",
      "{\"level\":\"info\",\"time\":\"2025-10-23T17:27:07.006864Z\",\"scope\":\"agent_xds::client\",\"message\":\"received response\",\"type_url\":\"type.googleapis.com/agentgateway.dev.workload.Address\",\"size\":0,\"removes\":1,\"xds\":{\"id\":1}}\n",
      "{\"level\":\"info\",\"time\":\"2025-10-23T17:27:07.364134Z\",\"scope\":\"agent_xds::client\",\"message\":\"received response\",\"type_url\":\"type.googleapis.com/agentgateway.dev.workload.Address\",\"size\":0,\"removes\":1,\"xds\":{\"id\":1}}\n",
      "{\"level\":\"info\",\"time\":\"2025-10-23T17:27:07.500764Z\",\"scope\":\"agent_xds::client\",\"message\":\"received response\",\"type_url\":\"type.googleapis.com/agentgateway.dev.workload.Address\",\"size\":0,\"removes\":1,\"xds\":{\"id\":1}}\n",
      "{\"level\":\"info\",\"time\":\"2025-10-23T17:27:07.653895Z\",\"scope\":\"agent_xds::client\",\"message\":\"received response\",\"type_url\":\"type.googleapis.com/agentgateway.dev.workload.Address\",\"size\":0,\"removes\":1,\"xds\":{\"id\":1}}\n",
      "{\"level\":\"info\",\"time\":\"2025-10-23T17:28:46.902418Z\",\"scope\":\"agent_xds::client\",\"message\":\"received response\",\"type_url\":\"type.googleapis.com/agentgateway.dev.workload.Address\",\"size\":2,\"removes\":0,\"xds\":{\"id\":1}}\n",
      "{\"level\":\"info\",\"time\":\"2025-10-23T17:28:50.134767Z\",\"scope\":\"agent_xds::client\",\"message\":\"received response\",\"type_url\":\"type.googleapis.com/agentgateway.dev.workload.Address\",\"size\":0,\"removes\":1,\"xds\":{\"id\":1}}\n",
      "{\"level\":\"info\",\"time\":\"2025-10-23T17:28:50.547293Z\",\"scope\":\"agent_xds::client\",\"message\":\"received response\",\"type_url\":\"type.googleapis.com/agentgateway.dev.workload.Address\",\"size\":0,\"removes\":1,\"xds\":{\"id\":1}}\n",
      "{\"level\":\"info\",\"time\":\"2025-10-23T17:28:53.274243Z\",\"scope\":\"agent_xds::client\",\"message\":\"received response\",\"type_url\":\"type.googleapis.com/agentgateway.dev.workload.Address\",\"size\":1,\"removes\":0,\"xds\":{\"id\":1}}\n",
      "{\"level\":\"info\",\"time\":\"2025-10-23T17:28:53.530993Z\",\"scope\":\"agent_xds::client\",\"message\":\"received response\",\"type_url\":\"type.googleapis.com/agentgateway.dev.workload.Address\",\"size\":1,\"removes\":0,\"xds\":{\"id\":1}}\n",
      "{\"level\":\"info\",\"time\":\"2025-10-23T17:28:56.471840Z\",\"scope\":\"agent_xds::client\",\"message\":\"received response\",\"type_url\":\"type.googleapis.com/agentgateway.dev.workload.Address\",\"size\":1,\"removes\":0,\"xds\":{\"id\":1}}\n",
      "{\"level\":\"info\",\"time\":\"2025-10-23T17:28:58.670488Z\",\"scope\":\"agent_xds::client\",\"message\":\"received response\",\"type_url\":\"type.googleapis.com/agentgateway.dev.workload.Address\",\"size\":1,\"removes\":0,\"xds\":{\"id\":1}}\n",
      "{\"level\":\"info\",\"time\":\"2025-10-23T17:28:59.496224Z\",\"scope\":\"agent_xds::client\",\"message\":\"received response\",\"type_url\":\"type.googleapis.com/agentgateway.dev.workload.Address\",\"size\":1,\"removes\":0,\"xds\":{\"id\":1}}\n",
      "{\"level\":\"info\",\"time\":\"2025-10-23T17:28:59.546335Z\",\"scope\":\"agent_xds::client\",\"message\":\"received response\",\"type_url\":\"type.googleapis.com/agentgateway.dev.workload.Address\",\"size\":1,\"removes\":0,\"xds\":{\"id\":1}}\n",
      "{\"level\":\"info\",\"time\":\"2025-10-23T17:29:00.957889Z\",\"scope\":\"agent_xds::client\",\"message\":\"received response\",\"type_url\":\"type.googleapis.com/agentgateway.dev.workload.Address\",\"size\":1,\"removes\":0,\"xds\":{\"id\":1}}\n",
      "{\"level\":\"info\",\"time\":\"2025-10-23T17:29:03.519785Z\",\"scope\":\"agent_xds::client\",\"message\":\"received response\",\"type_url\":\"type.googleapis.com/agentgateway.dev.workload.Address\",\"size\":1,\"removes\":0,\"xds\":{\"id\":1}}\n",
      "{\"level\":\"info\",\"time\":\"2025-10-23T17:29:03.617685Z\",\"scope\":\"agent_xds::client\",\"message\":\"received response\",\"type_url\":\"type.googleapis.com/agentgateway.dev.workload.Address\",\"size\":1,\"removes\":0,\"xds\":{\"id\":1}}\n",
      "{\"level\":\"info\",\"time\":\"2025-10-23T17:29:04.631609Z\",\"scope\":\"agent_xds::client\",\"message\":\"received response\",\"type_url\":\"type.googleapis.com/agentgateway.dev.workload.Address\",\"size\":1,\"removes\":0,\"xds\":{\"id\":1}}\n",
      "{\"level\":\"info\",\"time\":\"2025-10-23T17:29:05.577127Z\",\"scope\":\"agent_xds::client\",\"message\":\"received response\",\"type_url\":\"type.googleapis.com/agentgateway.dev.workload.Address\",\"size\":1,\"removes\":0,\"xds\":{\"id\":1}}\n",
      "{\"level\":\"info\",\"time\":\"2025-10-23T17:29:14.139745Z\",\"scope\":\"agent_xds::client\",\"message\":\"received response\",\"type_url\":\"type.googleapis.com/agentgateway.dev.workload.Address\",\"size\":1,\"removes\":0,\"xds\":{\"id\":1}}\n",
      "{\"level\":\"info\",\"time\":\"2025-10-23T17:29:15.018370Z\",\"scope\":\"agent_xds::client\",\"message\":\"received response\",\"type_url\":\"type.googleapis.com/agentgateway.dev.workload.Address\",\"size\":1,\"removes\":0,\"xds\":{\"id\":1}}\n",
      "{\"level\":\"info\",\"time\":\"2025-10-23T17:30:17.389812Z\",\"scope\":\"agent_xds::client\",\"message\":\"received response\",\"type_url\":\"type.googleapis.com/agentgateway.dev.workload.Address\",\"size\":1,\"removes\":0,\"xds\":{\"id\":1}}\n",
      "{\"level\":\"info\",\"time\":\"2025-10-23T17:45:23.174112Z\",\"scope\":\"agent_xds::client\",\"message\":\"received response\",\"type_url\":\"type.googleapis.com/agentgateway.dev.workload.Address\",\"size\":1,\"removes\":0,\"xds\":{\"id\":1}}\n",
      "{\"level\":\"info\",\"time\":\"2025-10-23T17:45:27.529012Z\",\"scope\":\"agent_xds::client\",\"message\":\"received response\",\"type_url\":\"type.googleapis.com/agentgateway.dev.workload.Address\",\"size\":1,\"removes\":0,\"xds\":{\"id\":1}}\n",
      "{\"level\":\"info\",\"time\":\"2025-10-23T17:45:34.271519Z\",\"scope\":\"agent_xds::client\",\"message\":\"received response\",\"type_url\":\"type.googleapis.com/agentgateway.dev.workload.Address\",\"size\":1,\"removes\":0,\"xds\":{\"id\":1}}\n",
      "{\"level\":\"info\",\"time\":\"2025-10-23T17:46:10.988502Z\",\"scope\":\"agent_xds::client\",\"message\":\"received response\",\"type_url\":\"type.googleapis.com/agentgateway.dev.workload.Address\",\"size\":1,\"removes\":0,\"xds\":{\"id\":1}}\n",
      "{\"level\":\"info\",\"time\":\"2025-10-23T17:46:13.635774Z\",\"scope\":\"agent_xds::client\",\"message\":\"received response\",\"type_url\":\"type.googleapis.com/agentgateway.dev.workload.Address\",\"size\":1,\"removes\":0,\"xds\":{\"id\":1}}\n",
      "{\"level\":\"info\",\"time\":\"2025-10-23T17:53:40.594075Z\",\"scope\":\"agent_xds::client\",\"message\":\"received response\",\"type_url\":\"type.googleapis.com/agentgateway.dev.workload.Address\",\"size\":1,\"removes\":0,\"xds\":{\"id\":1}}\n",
      "{\"level\":\"info\",\"time\":\"2025-10-23T17:53:42.687940Z\",\"scope\":\"agent_xds::client\",\"message\":\"received response\",\"type_url\":\"type.googleapis.com/agentgateway.dev.workload.Address\",\"size\":1,\"removes\":0,\"xds\":{\"id\":1}}\n",
      "{\"level\":\"info\",\"time\":\"2025-10-23T17:53:46.756906Z\",\"scope\":\"agent_xds::client\",\"message\":\"received response\",\"type_url\":\"type.googleapis.com/agentgateway.dev.workload.Address\",\"size\":1,\"removes\":0,\"xds\":{\"id\":1}}\n",
      "{\"level\":\"info\",\"time\":\"2025-10-23T18:02:24.819073Z\",\"scope\":\"request\",\"gateway\":\"httpbin2/waypoint\",\"listener\":\"waypoint/httpbin2/waypoint\",\"route\":\"waypoint-default\",\"endpoint\":\"10.96.1.16:8080\",\"src.addr\":\"10.96.1.18:43550\",\"http.method\":\"GET\",\"http.host\":\"httpbin\",\"http.path\":\"/headers\",\"http.version\":\"HTTP/1.1\",\"http.status\":200,\"protocol\":\"http\",\"duration\":\"5ms\",\"request.body\":\"\",\"response.body\":\"{\\n  \\\"headers\\\": {\\n    \\\"Accept\\\": [\\n      \\\"*/*\\\"\\n    ],\\n    \\\"Host\\\": [\\n      \\\"httpbin:8000\\\"\\n    ],\\n    \\\"User-Agent\\\": [\\n      \\\"curl/8.16.0\\\"\\n    ]\\n  }\\n}\\n\"}\n"
     ]
    }
   ],
   "source": [
    "kubectl logs deploy/waypoint -n httpbin2 --tail=50"
   ]
  }
 ],
 "metadata": {
  "kernelspec": {
   "display_name": "Bash",
   "language": "bash",
   "name": "bash"
  },
  "language_info": {
   "codemirror_mode": "shell",
   "file_extension": ".sh",
   "mimetype": "text/x-sh",
   "name": "bash"
  }
 },
 "nbformat": 4,
 "nbformat_minor": 5
}
